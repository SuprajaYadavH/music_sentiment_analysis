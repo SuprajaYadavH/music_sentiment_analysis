{
 "cells": [
  {
   "cell_type": "code",
   "execution_count": 3,
   "id": "422283d4",
   "metadata": {},
   "outputs": [
    {
     "name": "stderr",
     "output_type": "stream",
     "text": [
      "Welcome to ds4psy (v0.9.0)!\n",
      "\n",
      "Loading required package: NLP\n",
      "\n",
      "Loading required package: ggplot2\n",
      "\n",
      "\n",
      "Attaching package: ‘ggplot2’\n",
      "\n",
      "\n",
      "The following object is masked from ‘package:NLP’:\n",
      "\n",
      "    annotate\n",
      "\n",
      "\n",
      "Loading required package: lattice\n",
      "\n",
      "successfully initialized (spaCy Version: 3.4.3, language model: en_core_web_sm)\n",
      "\n",
      "(python options: type = \"virtualenv\", value = \"/Users/yobahbertrandyonkou/spacyenv/\")\n",
      "\n"
     ]
    },
    {
     "ename": "ERROR",
     "evalue": "Error in gzfile(file, \"rb\"): cannot open the connection\n",
     "output_type": "error",
     "traceback": [
      "Error in gzfile(file, \"rb\"): cannot open the connection\nTraceback:\n",
      "1. readRDS(\"./angry_corpus.rda\")",
      "2. gzfile(file, \"rb\")"
     ]
    }
   ],
   "source": [
    "options(warn = -1)\n",
    "library('stringr')\n",
    "library('hunspell')\n",
    "library('ds4psy')\n",
    "library('glue')\n",
    "library('spacyr')\n",
    "library('tm')\n",
    "library('dplyr',  warn.conflicts = FALSE)\n",
    "library('parsedate')\n",
    "library(\"tokenizers\", warn.conflicts = FALSE)\n",
    "\n",
    "# replacing contractions with full forms\n",
    "library('textclean')\n",
    "library('caret')\n",
    "library(\"e1071\")\n",
    "\n",
    "# initializing spacyr\n",
    "spacy_initialize(model = 'en_core_web_sm', virtualenv  = \"/Users/yobahbertrandyonkou/spacyenv/\")\n",
    "\n",
    "# importing model\n",
    "msa_model = readRDS(\"../Models/msa_model_81_lyrics_and_sentiments_only.rda\")\n",
    "\n",
    "# loading corpus\n",
    "angry_corpus = readRDS(\"../Model testing/angry_corpus.rda\")\n",
    "sad_corpus = readRDS(\"../Model testing/sad_corpus.rda\")\n",
    "happy_corpus = readRDS(\"../Model testing/happy_corpus.rda\")"
   ]
  },
  {
   "cell_type": "code",
   "execution_count": null,
   "id": "4964f59c",
   "metadata": {},
   "outputs": [],
   "source": []
  },
  {
   "cell_type": "code",
   "execution_count": 2,
   "id": "64a41b6e",
   "metadata": {},
   "outputs": [],
   "source": [
    "# loading data sets\n",
    "d_and_d = read.csv(\"./d_and_d.csv\")"
   ]
  },
  {
   "cell_type": "code",
   "execution_count": null,
   "id": "684485cb",
   "metadata": {},
   "outputs": [],
   "source": []
  }
 ],
 "metadata": {
  "kernelspec": {
   "display_name": "R",
   "language": "R",
   "name": "ir"
  },
  "language_info": {
   "codemirror_mode": "r",
   "file_extension": ".r",
   "mimetype": "text/x-r-source",
   "name": "R",
   "pygments_lexer": "r",
   "version": "4.2.1"
  }
 },
 "nbformat": 4,
 "nbformat_minor": 5
}
